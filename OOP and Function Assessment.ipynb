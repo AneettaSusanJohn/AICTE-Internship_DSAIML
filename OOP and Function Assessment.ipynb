{
  "cells": [
    {
      "cell_type": "code",
      "source": [
        "# 1. Case Study: Grocery Store Billing A grocery store wants to automate billing. Create a function to calculate the total bill amount for a list of items with their prices and quantities.\n",
        "\n",
        "def calculate_total_bill():\n",
        "    n = int(input(\"Enter number of items: \"))\n",
        "    total = 0\n",
        "    for i in range(n):\n",
        "        price = float(input(f\"Price of item {i+1}: \"))\n",
        "        qty = int(input(f\"Quantity of item {i+1}: \"))\n",
        "        total += price * qty\n",
        "    print(f\"Total bill amount: {total:.2f}\")\n",
        "\n",
        "calculate_total_bill()\n"
      ],
      "metadata": {
        "colab": {
          "base_uri": "https://localhost:8080/"
        },
        "id": "LxymQEAJ9hAD",
        "outputId": "6e7ce42c-2248-4303-ce04-26d5de5ef145"
      },
      "execution_count": 90,
      "outputs": [
        {
          "output_type": "stream",
          "name": "stdout",
          "text": [
            "Enter number of items: 3\n",
            "Price of item 1: 43\n",
            "Quantity of item 1: 676\n",
            "Price of item 2: 453\n",
            "Quantity of item 2: 7\n",
            "Price of item 3: 57\n",
            "Quantity of item 3: 2\n",
            "Total bill amount: 32353.00\n"
          ]
        }
      ]
    },
    {
      "cell_type": "code",
      "source": [
        "# 2. Case Study: School Report Generator A school wants to generate student reports using a function. Write a function that takes student name, marks in 3 subjects and returns the average marks and grade.\n",
        "\n",
        "def generate_report():\n",
        "    name = input(\"Enter student name: \")\n",
        "    marks = []\n",
        "    for i in range(3):\n",
        "        m = float(input(f\"Marks in subject {i+1}: \"))\n",
        "        marks.append(m)\n",
        "    avg = sum(marks) / 3\n",
        "\n",
        "    if avg >= 90:\n",
        "        grade = 'A'\n",
        "    elif avg >= 75:\n",
        "        grade = 'B'\n",
        "    elif avg >= 60:\n",
        "        grade = 'C'\n",
        "    elif avg >= 40:\n",
        "        grade = 'D'\n",
        "    else:\n",
        "        grade = 'F'\n",
        "\n",
        "    print(f\"Student: {name}, Average Marks: {avg:.2f}, Grade: {grade}\")\n",
        "\n",
        "generate_report()\n"
      ],
      "metadata": {
        "colab": {
          "base_uri": "https://localhost:8080/"
        },
        "id": "zTWqe-BDSQwP",
        "outputId": "adeff4f4-8388-4227-c95e-65f60e99dfc4"
      },
      "execution_count": 91,
      "outputs": [
        {
          "output_type": "stream",
          "name": "stdout",
          "text": [
            "Enter student name: Aneetta\n",
            "Marks in subject 1: 87\n",
            "Marks in subject 2: 86\n",
            "Marks in subject 3: 99\n",
            "Student: Aneetta, Average Marks: 90.67, Grade: A\n"
          ]
        }
      ]
    },
    {
      "cell_type": "code",
      "source": [
        "# 3. Case Study: Temperature Converter Create a Python program using a function that converts temperature from Celsius to Fahrenheit and vice versa based on user choice.\n",
        "\n",
        "def temperature_converter():\n",
        "    choice = input(\"Convert to (F)ahrenheit or (C)elsius? \").strip().upper()\n",
        "    temp = float(input(\"Enter temperature value: \"))\n",
        "\n",
        "    if choice == 'F':\n",
        "        # Celsius to Fahrenheit\n",
        "        converted = (temp * 9/5) + 32\n",
        "        print(f\"{temp}°C = {converted:.2f}°F\")\n",
        "    elif choice == 'C':\n",
        "        # Fahrenheit to Celsius\n",
        "        converted = (temp - 32) * 5/9\n",
        "        print(f\"{temp}°F = {converted:.2f}°C\")\n",
        "    else:\n",
        "        print(\"Invalid choice!\")\n",
        "\n",
        "temperature_converter()"
      ],
      "metadata": {
        "colab": {
          "base_uri": "https://localhost:8080/"
        },
        "id": "usY7cEqe9sAy",
        "outputId": "43b26fbc-5efd-4b1d-b83a-e2b9ceea76c4"
      },
      "execution_count": 93,
      "outputs": [
        {
          "output_type": "stream",
          "name": "stdout",
          "text": [
            "Convert to (F)ahrenheit or (C)elsius? C\n",
            "Enter temperature value: 65\n",
            "65.0°F = 18.33°C\n"
          ]
        }
      ]
    },
    {
      "cell_type": "code",
      "source": [
        "# 4. Case Study: Employee Management System An organization wants to create a simple employee management system. Design a class Employee with attributes like name, ID, and salary. Add a method to display the details.\n",
        "\n",
        "class Employee:\n",
        "    def __init__(self, name, emp_id, salary):\n",
        "        self.name = name\n",
        "        self.emp_id = emp_id\n",
        "        self.salary = salary\n",
        "\n",
        "    def display(self):\n",
        "        print(f\"Employee Name: {self.name}\")\n",
        "        print(f\"Employee ID: {self.emp_id}\")\n",
        "        print(f\"Salary: {self.salary:.2f}\")\n",
        "\n",
        "name = input(\"Enter employee name: \")\n",
        "emp_id = input(\"Enter employee ID: \")\n",
        "salary = float(input(\"Enter salary: \"))\n",
        "emp = Employee(name, emp_id, salary)\n",
        "emp.display()"
      ],
      "metadata": {
        "colab": {
          "base_uri": "https://localhost:8080/"
        },
        "id": "Po7GT5Ae-WOv",
        "outputId": "a22dd803-f310-4a5d-d50d-a94ebc2108e7"
      },
      "execution_count": 94,
      "outputs": [
        {
          "output_type": "stream",
          "name": "stdout",
          "text": [
            "Enter employee name: Aneetta\n",
            "Enter employee ID: 2348221\n",
            "Enter salary: 30000\n",
            "Employee Name: Aneetta\n",
            "Employee ID: 2348221\n",
            "Salary: 30000.00\n"
          ]
        }
      ]
    },
    {
      "cell_type": "code",
      "source": [
        "# 5. Case Study: Bank Account Simulation Write a class BankAccount that allows a user to deposit, withdraw, and check balance. Use functions for each operation.\n",
        "\n",
        "class BankAccount:\n",
        "    def __init__(self):\n",
        "        self.balance = 0.0\n",
        "\n",
        "    def deposit(self, amount):\n",
        "        self.balance += amount\n",
        "        print(f\"Deposited {amount:.2f}\")\n",
        "\n",
        "    def withdraw(self, amount):\n",
        "        if amount > self.balance:\n",
        "            print(\"Insufficient balance!\")\n",
        "        else:\n",
        "            self.balance -= amount\n",
        "            print(f\"Withdrawn {amount:.2f}\")\n",
        "\n",
        "    def check_balance(self):\n",
        "        print(f\"Current balance: {self.balance:.2f}\")\n",
        "\n",
        "account = BankAccount()\n",
        "while True:\n",
        "    choice = input(\"Choose operation: deposit, withdraw, balance, quit: \").lower()\n",
        "    if choice == \"deposit\":\n",
        "        amt = float(input(\"Enter amount to deposit: \"))\n",
        "        account.deposit(amt)\n",
        "    elif choice == \"withdraw\":\n",
        "        amt = float(input(\"Enter amount to withdraw: \"))\n",
        "        account.withdraw(amt)\n",
        "    elif choice == \"balance\":\n",
        "        account.check_balance()\n",
        "    elif choice == \"quit\":\n",
        "        break\n",
        "    else:\n",
        "        print(\"Invalid choice!\")"
      ],
      "metadata": {
        "colab": {
          "base_uri": "https://localhost:8080/"
        },
        "id": "G2wj1eD1-rHx",
        "outputId": "382c1f83-73e8-436b-e762-a912ce81175c"
      },
      "execution_count": 95,
      "outputs": [
        {
          "name": "stdout",
          "output_type": "stream",
          "text": [
            "Choose operation: deposit, withdraw, balance, quit: withdraw\n",
            "Enter amount to withdraw: 2300\n",
            "Insufficient balance!\n",
            "Choose operation: deposit, withdraw, balance, quit: deposit\n",
            "Enter amount to deposit: 1000\n",
            "Deposited 1000.00\n",
            "Choose operation: deposit, withdraw, balance, quit: withdraw\n",
            "Enter amount to withdraw: 499\n",
            "Withdrawn 499.00\n",
            "Choose operation: deposit, withdraw, balance, quit: balance\n",
            "Current balance: 501.00\n",
            "Choose operation: deposit, withdraw, balance, quit: quit\n"
          ]
        }
      ]
    },
    {
      "cell_type": "code",
      "source": [
        "# 6. Case Study: Movie Ticket Booking System Design a class MovieTicket with attributes like movie name, seat number, and price. Include a method to calculate total price for multiple tickets.\n",
        "\n",
        "class MovieTicket:\n",
        "    def __init__(self, movie_name, seat_number, price):\n",
        "        self.movie_name = movie_name\n",
        "        self.seat_number = seat_number\n",
        "        self.price = price\n",
        "\n",
        "    def total_price(self, ticket_count):\n",
        "        return self.price * ticket_count\n",
        "\n",
        "movie_name = input(\"Enter movie name: \")\n",
        "seat_number = input(\"Enter seat number: \")\n",
        "price = float(input(\"Enter price per ticket: \"))\n",
        "tickets = int(input(\"Enter number of tickets: \"))\n",
        "\n",
        "ticket = MovieTicket(movie_name, seat_number, price)\n",
        "print(f\"Total price for {tickets} tickets: {ticket.total_price(tickets):.2f}\")"
      ],
      "metadata": {
        "colab": {
          "base_uri": "https://localhost:8080/"
        },
        "id": "STOYQKwm_bLc",
        "outputId": "258ed6bc-0a3d-4574-b2fa-2b17635e1c53"
      },
      "execution_count": 96,
      "outputs": [
        {
          "output_type": "stream",
          "name": "stdout",
          "text": [
            "Enter movie name: King\n",
            "Enter seat number: 2\n",
            "Enter price per ticket: 200\n",
            "Enter number of tickets: 2\n",
            "Total price for 2 tickets: 400.00\n"
          ]
        }
      ]
    },
    {
      "cell_type": "code",
      "source": [
        "# 7. Case Study: Library Book Management A library wants to keep track of books. Create a class Book with attributes like title, author, and availability. Include methods to borrow and return a book.\n",
        "\n",
        "class Book:\n",
        "    def __init__(self, title, author):\n",
        "        self.title = title\n",
        "        self.author = author\n",
        "        self.available = True\n",
        "\n",
        "    def borrow(self):\n",
        "        if self.available:\n",
        "            self.available = False\n",
        "            print(f\"You borrowed '{self.title}'.\")\n",
        "        else:\n",
        "            print(f\"'{self.title}' is currently not available.\")\n",
        "\n",
        "    def return_book(self):\n",
        "        self.available = True\n",
        "        print(f\"You returned '{self.title}'.\")\n",
        "\n",
        "title = input(\"Enter book title: \")\n",
        "author = input(\"Enter author name: \")\n",
        "book = Book(title, author)\n",
        "\n",
        "while True:\n",
        "    action = input(\"Enter action (borrow, return, quit): \").lower()\n",
        "    if action == \"borrow\":\n",
        "        book.borrow()\n",
        "    elif action == \"return\":\n",
        "        book.return_book()\n",
        "    elif action == \"quit\":\n",
        "        break\n",
        "    else:\n",
        "        print(\"Invalid action!\")"
      ],
      "metadata": {
        "colab": {
          "base_uri": "https://localhost:8080/"
        },
        "id": "Kq3ozk0j_lYQ",
        "outputId": "8fe29916-06a7-404f-a12d-22fc417f6f0b"
      },
      "execution_count": 98,
      "outputs": [
        {
          "name": "stdout",
          "output_type": "stream",
          "text": [
            "Enter book title: Alchemist\n",
            "Enter author name: Paulo Choelo\n",
            "Enter action (borrow, return, quit): borrow\n",
            "You borrowed 'Alchemist'.\n",
            "Enter action (borrow, return, quit): quit\n"
          ]
        }
      ]
    },
    {
      "cell_type": "code",
      "source": [
        "# 8. Case Study: Car Rental System Write a class Car with attributes like brand, model, and daily rent. Create a function to calculate rent for a given number of days.\n",
        "\n",
        "class Car:\n",
        "    def __init__(self, brand, model, daily_rent):\n",
        "        self.brand = brand\n",
        "        self.model = model\n",
        "        self.daily_rent = daily_rent\n",
        "\n",
        "    def calculate_rent(self, days):\n",
        "        return self.daily_rent * days\n",
        "\n",
        "brand = input(\"Enter car brand: \")\n",
        "model = input(\"Enter car model: \")\n",
        "daily_rent = float(input(\"Enter daily rent: \"))\n",
        "days = int(input(\"Enter number of days to rent: \"))\n",
        "\n",
        "car = Car(brand, model, daily_rent)\n",
        "print(f\"Total rent for {days} days: {car.calculate_rent(days):.2f}\")"
      ],
      "metadata": {
        "colab": {
          "base_uri": "https://localhost:8080/"
        },
        "id": "WwHe8XCy_6e2",
        "outputId": "4c2c3d70-cc0b-43c1-f7ca-b6f7b3e5b5c8"
      },
      "execution_count": 99,
      "outputs": [
        {
          "output_type": "stream",
          "name": "stdout",
          "text": [
            "Enter car brand: Ford\n",
            "Enter car model: figo\n",
            "Enter daily rent: 10000\n",
            "Enter number of days to rent: 3\n",
            "Total rent for 3 days: 30000.00\n"
          ]
        }
      ]
    },
    {
      "cell_type": "code",
      "source": [
        "# 9. Case Study: Online Course Progress Tracker Create a class Course with attributes course name, total modules, and completed modules. Write a method to display the percentage of course completion.\n",
        "\n",
        "class Course:\n",
        "    def __init__(self, course_name, total_modules, completed_modules):\n",
        "        self.course_name = course_name\n",
        "        self.total_modules = total_modules\n",
        "        self.completed_modules = completed_modules\n",
        "\n",
        "    def progress_percentage(self):\n",
        "        return (self.completed_modules / self.total_modules) * 100\n",
        "\n",
        "course_name = input(\"Enter course name: \")\n",
        "total = int(input(\"Enter total modules: \"))\n",
        "completed = int(input(\"Enter completed modules: \"))\n",
        "\n",
        "course = Course(course_name, total, completed)\n",
        "print(f\"Course completion: {course.progress_percentage():.2f}%\")"
      ],
      "metadata": {
        "colab": {
          "base_uri": "https://localhost:8080/"
        },
        "id": "QJ2deRm7AB0l",
        "outputId": "fd7263b9-d4d0-422c-acc7-5c0136b8be7a"
      },
      "execution_count": 100,
      "outputs": [
        {
          "output_type": "stream",
          "name": "stdout",
          "text": [
            "Enter course name: Data Science\n",
            "Enter total modules: 6\n",
            "Enter completed modules: 3\n",
            "Course completion: 50.00%\n"
          ]
        }
      ]
    },
    {
      "cell_type": "code",
      "source": [
        "# 10. Case Study: Restaurant Order System Design a function to accept a list of food items ordered and their prices, then return the total bill amount and number of items ordered.\n",
        "\n",
        "def calculate_order():\n",
        "    n = int(input(\"Enter number of food items ordered: \"))\n",
        "    total = 0\n",
        "    for i in range(n):\n",
        "        item = input(f\"Name of item {i+1}: \")\n",
        "        price = float(input(f\"Price of {item}: \"))\n",
        "        total += price\n",
        "    print(f\"Total bill amount: {total:.2f}\")\n",
        "    print(f\"Number of items ordered: {n}\")\n",
        "\n",
        "calculate_order()"
      ],
      "metadata": {
        "colab": {
          "base_uri": "https://localhost:8080/"
        },
        "id": "PfAFttF0Aa07",
        "outputId": "9d35342d-e1d4-41ff-df2b-d5268e300b79"
      },
      "execution_count": 102,
      "outputs": [
        {
          "output_type": "stream",
          "name": "stdout",
          "text": [
            "Enter number of food items ordered: 2\n",
            "Name of item 1: Fried Rice\n",
            "Price of Fried Rice: 200\n",
            "Name of item 2: Chilly Chicken\n",
            "Price of Chilly Chicken: 150\n",
            "Total bill amount: 350.00\n",
            "Number of items ordered: 2\n"
          ]
        }
      ]
    },
    {
      "cell_type": "code",
      "source": [
        "# 11.Abstraction – Case Study: ATM Machine An ATM machine provides only limited operations to the user such as withdraw, check balance, and deposit. Design a class where internal processing details like verifying the PIN, maintaining logs, or updating central server are hidden from the user. The user should only interact with essential methods.\n",
        "\n",
        "class ATM:\n",
        "    def __init__(self, pin, balance=0):\n",
        "        self.__pin = pin               # hidden/private attribute\n",
        "        self.__balance = balance\n",
        "\n",
        "    def __verify_pin(self, input_pin):\n",
        "        return input_pin == self.__pin\n",
        "\n",
        "    def deposit(self, amount, input_pin):\n",
        "        if self.__verify_pin(input_pin):\n",
        "            self.__balance += amount\n",
        "            print(f\"Deposited: {amount}. New balance: {self.__balance}\")\n",
        "        else:\n",
        "            print(\"Invalid PIN!\")\n",
        "\n",
        "    def withdraw(self, amount, input_pin):\n",
        "        if self.__verify_pin(input_pin):\n",
        "            if amount <= self.__balance:\n",
        "                self.__balance -= amount\n",
        "                print(f\"Withdrawn: {amount}. Remaining balance: {self.__balance}\")\n",
        "            else:\n",
        "                print(\"Insufficient balance!\")\n",
        "        else:\n",
        "            print(\"Invalid PIN!\")\n",
        "\n",
        "    def check_balance(self, input_pin):\n",
        "        if self.__verify_pin(input_pin):\n",
        "            print(f\"Current balance: {self.__balance}\")\n",
        "        else:\n",
        "            print(\"Invalid PIN!\")\n",
        "\n",
        "# User interaction\n",
        "pin = input(\"Set your ATM PIN: \")\n",
        "atm = ATM(pin, 1000)  # initial balance 1000\n",
        "\n",
        "while True:\n",
        "    print(\"\\nOptions: deposit, withdraw, balance, quit\")\n",
        "    action = input(\"Choose an action: \").lower()\n",
        "    if action == 'quit':\n",
        "        break\n",
        "    input_pin = input(\"Enter your PIN: \")\n",
        "    if action == 'deposit':\n",
        "        amount = float(input(\"Enter amount to deposit: \"))\n",
        "        atm.deposit(amount, input_pin)\n",
        "    elif action == 'withdraw':\n",
        "        amount = float(input(\"Enter amount to withdraw: \"))\n",
        "        atm.withdraw(amount, input_pin)\n",
        "    elif action == 'balance':\n",
        "        atm.check_balance(input_pin)\n",
        "    else:\n",
        "        print(\"Invalid action!\")"
      ],
      "metadata": {
        "colab": {
          "base_uri": "https://localhost:8080/"
        },
        "id": "4bwwN_FlA01I",
        "outputId": "86009302-fbba-41cd-c00e-9a7ef16cb5b4"
      },
      "execution_count": 103,
      "outputs": [
        {
          "name": "stdout",
          "output_type": "stream",
          "text": [
            "Set your ATM PIN: 1234\n",
            "\n",
            "Options: deposit, withdraw, balance, quit\n",
            "Choose an action: deposit\n",
            "Enter your PIN: 1234\n",
            "Enter amount to deposit: 2200\n",
            "Deposited: 2200.0. New balance: 3200.0\n",
            "\n",
            "Options: deposit, withdraw, balance, quit\n",
            "Choose an action: withdraw\n",
            "Enter your PIN: 1234\n",
            "Enter amount to withdraw: 1000\n",
            "Withdrawn: 1000.0. Remaining balance: 2200.0\n",
            "\n",
            "Options: deposit, withdraw, balance, quit\n",
            "Choose an action: quit\n"
          ]
        }
      ]
    },
    {
      "cell_type": "code",
      "source": [
        "# 12.Encapsulation – Case Study: Student Record System A school system needs to protect student data like marks and personal info. Design a class Student that stores name and marks, ensuring marks cannot be directly accessed or changed from outside the class. Include setter and getter methods to modify and view marks.\n",
        "\n",
        "class Student:\n",
        "    def __init__(self, name):\n",
        "        self.name = name\n",
        "        self.__marks = None  # private attribute\n",
        "\n",
        "    def set_marks(self, marks):\n",
        "        if 0 <= marks <= 100:\n",
        "            self.__marks = marks\n",
        "        else:\n",
        "            print(\"Invalid marks! Must be 0-100.\")\n",
        "\n",
        "    def get_marks(self):\n",
        "        return self.__marks\n",
        "\n",
        "# User input\n",
        "name = input(\"Enter student name: \")\n",
        "student = Student(name)\n",
        "\n",
        "while True:\n",
        "    print(\"\\nOptions: set, get, quit\")\n",
        "    action = input(\"Choose action: \").lower()\n",
        "    if action == \"quit\":\n",
        "        break\n",
        "    elif action == \"set\":\n",
        "        try:\n",
        "            marks = float(input(\"Enter marks (0-100): \"))\n",
        "            student.set_marks(marks)\n",
        "        except ValueError:\n",
        "            print(\"Invalid input!\")\n",
        "    elif action == \"get\":\n",
        "        marks = student.get_marks()\n",
        "        if marks is None:\n",
        "            print(\"Marks not set yet.\")\n",
        "        else:\n",
        "            print(f\"Marks of {student.name}: {marks}\")\n",
        "    else:\n",
        "        print(\"Invalid action!\")"
      ],
      "metadata": {
        "colab": {
          "base_uri": "https://localhost:8080/"
        },
        "id": "Pv5DqTgKBp6y",
        "outputId": "94f33be1-8315-414c-8f5a-5571bff80c13"
      },
      "execution_count": 104,
      "outputs": [
        {
          "name": "stdout",
          "output_type": "stream",
          "text": [
            "Enter student name: Aneetta\n",
            "\n",
            "Options: set, get, quit\n",
            "Choose action: set\n",
            "Enter marks (0-100): 90\n",
            "\n",
            "Options: set, get, quit\n",
            "Choose action: get\n",
            "Marks of Aneetta: 90.0\n",
            "\n",
            "Options: set, get, quit\n",
            "Choose action: quit\n"
          ]
        }
      ]
    },
    {
      "cell_type": "code",
      "source": [
        "# 13.Inheritance – Case Study: Vehicle Types A vehicle rental company manages various types of vehicles: cars, bikes, and trucks. Design a base class Vehicle with common properties like brand and model, and then create child classes Car, Bike, and Truck inheriting from Vehicle, each with specific features or methods.\n",
        "\n",
        "class Vehicle:\n",
        "    def __init__(self, brand, model):\n",
        "        self.brand = brand\n",
        "        self.model = model\n",
        "\n",
        "    def display(self):\n",
        "        print(f\"Brand: {self.brand}, Model: {self.model}\")\n",
        "\n",
        "class Car(Vehicle):\n",
        "    def __init__(self, brand, model, seats):\n",
        "        super().__init__(brand, model)\n",
        "        self.seats = seats\n",
        "\n",
        "    def display(self):\n",
        "        super().display()\n",
        "        print(f\"Seats: {self.seats}\")\n",
        "\n",
        "class Bike(Vehicle):\n",
        "    def __init__(self, brand, model, has_gear):\n",
        "        super().__init__(brand, model)\n",
        "        self.has_gear = has_gear\n",
        "\n",
        "    def display(self):\n",
        "        super().display()\n",
        "        print(f\"Has gear: {'Yes' if self.has_gear else 'No'}\")\n",
        "\n",
        "class Truck(Vehicle):\n",
        "    def __init__(self, brand, model, capacity):\n",
        "        super().__init__(brand, model)\n",
        "        self.capacity = capacity\n",
        "\n",
        "    def display(self):\n",
        "        super().display()\n",
        "        print(f\"Capacity: {self.capacity} tons\")\n",
        "\n",
        "# User interaction\n",
        "v_type = input(\"Enter vehicle type (car, bike, truck): \").lower()\n",
        "\n",
        "brand = input(\"Enter brand: \")\n",
        "model = input(\"Enter model: \")\n",
        "\n",
        "if v_type == \"car\":\n",
        "    seats = int(input(\"Enter number of seats: \"))\n",
        "    vehicle = Car(brand, model, seats)\n",
        "elif v_type == \"bike\":\n",
        "    has_gear = input(\"Has gear? (yes/no): \").lower() == \"yes\"\n",
        "    vehicle = Bike(brand, model, has_gear)\n",
        "elif v_type == \"truck\":\n",
        "    capacity = float(input(\"Enter capacity in tons: \"))\n",
        "    vehicle = Truck(brand, model, capacity)\n",
        "else:\n",
        "    print(\"Invalid vehicle type!\")\n",
        "    vehicle = None\n",
        "\n",
        "if vehicle:\n",
        "    vehicle.display()"
      ],
      "metadata": {
        "colab": {
          "base_uri": "https://localhost:8080/"
        },
        "id": "nvQ-_M5yB_1d",
        "outputId": "4c46b774-80f0-4357-ed52-5fe7cd07f64f"
      },
      "execution_count": 105,
      "outputs": [
        {
          "output_type": "stream",
          "name": "stdout",
          "text": [
            "Enter vehicle type (car, bike, truck): car\n",
            "Enter brand: ford\n",
            "Enter model: figo\n",
            "Enter number of seats: 5\n",
            "Brand: ford, Model: figo\n",
            "Seats: 5\n"
          ]
        }
      ]
    },
    {
      "cell_type": "code",
      "source": [
        "# 14.Polymorphism – Case Study: Payment Gateway An e-commerce platform allows multiple types of payments – credit card, debit card, and UPI. Create a base class Payment with a method make_payment(). Each payment method should override this method to show a different payment process.\n",
        "\n",
        "class Payment:\n",
        "    def make_payment(self):\n",
        "        print(\"Making a generic payment\")\n",
        "\n",
        "class CreditCardPayment(Payment):\n",
        "    def make_payment(self):\n",
        "        print(\"Processing credit card payment...\")\n",
        "\n",
        "class DebitCardPayment(Payment):\n",
        "    def make_payment(self):\n",
        "        print(\"Processing debit card payment...\")\n",
        "\n",
        "class UPIPayment(Payment):\n",
        "    def make_payment(self):\n",
        "        print(\"Processing UPI payment...\")\n",
        "\n",
        "# User input\n",
        "method = input(\"Enter payment method (credit, debit, upi): \").lower()\n",
        "\n",
        "if method == \"credit\":\n",
        "    payment = CreditCardPayment()\n",
        "elif method == \"debit\":\n",
        "    payment = DebitCardPayment()\n",
        "elif method == \"upi\":\n",
        "    payment = UPIPayment()\n",
        "else:\n",
        "    payment = Payment()\n",
        "\n",
        "payment.make_payment()"
      ],
      "metadata": {
        "colab": {
          "base_uri": "https://localhost:8080/"
        },
        "id": "FrVuX9VsCP7E",
        "outputId": "2759baf0-e6d9-4b6b-8c66-f44542adf3cd"
      },
      "execution_count": 106,
      "outputs": [
        {
          "output_type": "stream",
          "name": "stdout",
          "text": [
            "Enter payment method (credit, debit, upi): credit\n",
            "Processing credit card payment...\n"
          ]
        }
      ]
    }
  ],
  "metadata": {
    "colab": {
      "name": "Welcome To Colab",
      "toc_visible": true,
      "provenance": []
    },
    "kernelspec": {
      "display_name": "Python 3",
      "name": "python3"
    }
  },
  "nbformat": 4,
  "nbformat_minor": 0
}