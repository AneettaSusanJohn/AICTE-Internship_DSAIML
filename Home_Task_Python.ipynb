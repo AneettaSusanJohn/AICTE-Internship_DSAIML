{
  "cells": [
    {
      "cell_type": "code",
      "source": [
        "# 1. Case Study: Grocery Billing System\n",
        "# Problem: A shopkeeper wants to generate a total bill using item prices.\n",
        "# Task: Take a list of prices and compute the total using a loop.\n",
        "\n",
        "prices = list(map(int, input(\"Enter item prices separated by space: \").split()))\n",
        "total = 0\n",
        "for price in prices:\n",
        "    total += price\n",
        "print(\"Total Bill:\", total)\n"
      ],
      "metadata": {
        "colab": {
          "base_uri": "https://localhost:8080/"
        },
        "id": "LxymQEAJ9hAD",
        "outputId": "121c0112-8b0b-4ae3-b237-046d0c1db6f2"
      },
      "execution_count": 26,
      "outputs": [
        {
          "output_type": "stream",
          "name": "stdout",
          "text": [
            "Enter item prices separated by space: 20 50 100 \n",
            "Total Bill: 170\n"
          ]
        }
      ]
    },
    {
      "cell_type": "code",
      "source": [
        "# 2. Case Study: Student Grades\n",
        "# Problem: Calculate the average marks of a student using a tuple of 5 subjects.\n",
        "\n",
        "marks = tuple(map(int, input(\"Enter 5 subject marks separated by space: \").split()))\n",
        "average = sum(marks) / len(marks)\n",
        "print(\"Average:\", average)"
      ],
      "metadata": {
        "colab": {
          "base_uri": "https://localhost:8080/"
        },
        "id": "usY7cEqe9sAy",
        "outputId": "510f63e6-18da-411d-be67-3b36cbc04fc4"
      },
      "execution_count": 27,
      "outputs": [
        {
          "output_type": "stream",
          "name": "stdout",
          "text": [
            "Enter 5 subject marks separated by space: 90 98 80 100 78 \n",
            "Average: 89.2\n"
          ]
        }
      ]
    },
    {
      "cell_type": "code",
      "source": [
        "# 3. Case Study: Set of Unique Emails\n",
        "# Problem: Extract unique email addresses from a list using a set.\n",
        "\n",
        "emails = input(\"Enter email addresses separated by space: \").split()\n",
        "unique_emails = set(emails)\n",
        "print(unique_emails)"
      ],
      "metadata": {
        "colab": {
          "base_uri": "https://localhost:8080/"
        },
        "id": "Po7GT5Ae-WOv",
        "outputId": "af580734-8c7e-47c0-837a-9ec0b66b7be0"
      },
      "execution_count": 28,
      "outputs": [
        {
          "output_type": "stream",
          "name": "stdout",
          "text": [
            "Enter email addresses separated by space: aneetta@gmail.com ashik123@gmail.com aneetta@gmail.com\n",
            "{'aneetta@gmail.com', 'ashik123@gmail.com'}\n"
          ]
        }
      ]
    },
    {
      "cell_type": "code",
      "source": [
        "# 4. Case Study: Attendance Tracker\n",
        "# Problem: Use a dictionary to store and print student names with their attendance status.\n",
        "\n",
        "n = int(input(\"Enter number of students: \"))\n",
        "attendance = {}\n",
        "for _ in range(n):\n",
        "    name = input(\"Enter student name: \")\n",
        "    status = input(\"Enter attendance status (Present/Absent): \")\n",
        "    attendance[name] = status\n",
        "for k, v in attendance.items():\n",
        "    print(f\"{k}: {v}\")Pre"
      ],
      "metadata": {
        "colab": {
          "base_uri": "https://localhost:8080/"
        },
        "id": "G2wj1eD1-rHx",
        "outputId": "4b630fb2-7934-48e3-d371-440782472891"
      },
      "execution_count": 29,
      "outputs": [
        {
          "output_type": "stream",
          "name": "stdout",
          "text": [
            "Enter number of students: 3\n",
            "Enter student name: Aneetta\n",
            "Enter attendance status (Present/Absent): Absent\n",
            "Enter student name: Ashik\n",
            "Enter attendance status (Present/Absent): Absent\n",
            "Enter student name: Abhishek\n",
            "Enter attendance status (Present/Absent): Present\n",
            "Aneetta: Absent\n",
            "Ashik: Absent\n",
            "Abhishek: Present\n"
          ]
        }
      ]
    },
    {
      "cell_type": "code",
      "source": [
        "# 5. Case Study: Multiplication Table\n",
        "# Problem: Print the multiplication table of a number using a loop.\n",
        "\n",
        "n = int(input(\"Enter a number: \"))\n",
        "for i in range(1, 11):\n",
        "    print(n * i, end=' ')\n",
        "print()\n"
      ],
      "metadata": {
        "colab": {
          "base_uri": "https://localhost:8080/"
        },
        "id": "STOYQKwm_bLc",
        "outputId": "9efc2c8f-5045-47b8-b8e1-4f0e8339f5c9"
      },
      "execution_count": 30,
      "outputs": [
        {
          "output_type": "stream",
          "name": "stdout",
          "text": [
            "Enter a number: 3\n",
            "3 6 9 12 15 18 21 24 27 30 \n"
          ]
        }
      ]
    },
    {
      "cell_type": "code",
      "source": [
        "# 6. Case Study: Power Calculator\n",
        "# Problem: Raise each number in a list to the power of 2 using a loop.\n",
        "\n",
        "numbers = list(map(int, input(\"Enter numbers separated by space: \").split()))\n",
        "squares = []\n",
        "for num in numbers:\n",
        "    squares.append(num ** 2)\n",
        "print(squares)"
      ],
      "metadata": {
        "colab": {
          "base_uri": "https://localhost:8080/"
        },
        "id": "Kq3ozk0j_lYQ",
        "outputId": "9e4080a4-adad-4020-8ec4-9f842364bc59"
      },
      "execution_count": 31,
      "outputs": [
        {
          "output_type": "stream",
          "name": "stdout",
          "text": [
            "Enter numbers separated by space: 10 20 30 2 4\n",
            "[100, 400, 900, 4, 16]\n"
          ]
        }
      ]
    },
    {
      "cell_type": "code",
      "source": [
        "# 7. Case Study: Diamond Star Pattern\n",
        "# Problem: A school wants to print a diamond pattern for decorations using `*`.\n",
        "# Write a program using nested loops to print a diamond star pattern of height n.n = int(input(\"Enter an odd height: \"))\n",
        "n = eval(input(\"Enter height: \"))\n",
        "\n",
        "for i in range(1, n + 1, 2):\n",
        "    spaces = (n - i) // 2\n",
        "    print(' ' * spaces + '*' * i)\n",
        "\n",
        "for i in range(n - 2, 0, -2):\n",
        "    spaces = (n - i) // 2\n",
        "    print(' ' * spaces + '*' * i)"
      ],
      "metadata": {
        "colab": {
          "base_uri": "https://localhost:8080/"
        },
        "id": "WwHe8XCy_6e2",
        "outputId": "f8dc550f-972c-4242-8322-12999d4edf2f"
      },
      "execution_count": 38,
      "outputs": [
        {
          "output_type": "stream",
          "name": "stdout",
          "text": [
            "Enter height: 5\n",
            "  *\n",
            " ***\n",
            "*****\n",
            " ***\n",
            "  *\n"
          ]
        }
      ]
    },
    {
      "cell_type": "code",
      "source": [
        "# 8. Case Study: Count Even and Odd\n",
        "# Problem: Count even and odd numbers from a tuple using a loop.\n",
        "\n",
        "numbers = tuple(map(int, input(\"Enter numbers separated by space: \").split()))\n",
        "even = odd = 0\n",
        "for num in numbers:\n",
        "    if num % 2 == 0:\n",
        "        even += 1\n",
        "    else:\n",
        "        odd += 1\n",
        "print(\"Even:\", even, \"Odd:\", odd)"
      ],
      "metadata": {
        "colab": {
          "base_uri": "https://localhost:8080/"
        },
        "id": "QJ2deRm7AB0l",
        "outputId": "44923bc3-53cf-4a1f-90fd-b36d8b927e7d"
      },
      "execution_count": 33,
      "outputs": [
        {
          "output_type": "stream",
          "name": "stdout",
          "text": [
            "Enter numbers separated by space: 10 15 31 7 4 18\n",
            "Even: 3 Odd: 3\n"
          ]
        }
      ]
    },
    {
      "cell_type": "code",
      "source": [
        "# 9. Case Study: Unique Fruits\n",
        "# Problem: From a list of fruits, print the unique ones using set.\n",
        "\n",
        "fruits = input(\"Enter fruit names separated by space: \").split()\n",
        "unique_fruits = set(fruits)\n",
        "print(unique_fruits)"
      ],
      "metadata": {
        "colab": {
          "base_uri": "https://localhost:8080/"
        },
        "id": "PfAFttF0Aa07",
        "outputId": "e38d450c-7c97-4966-c685-c598ee91f3cb"
      },
      "execution_count": 35,
      "outputs": [
        {
          "output_type": "stream",
          "name": "stdout",
          "text": [
            "Enter fruit names separated by space: Apple Orange Watermelon Orange Grapes Apple Grapes\n",
            "{'Watermelon', 'Orange', 'Apple', 'Grapes'}\n"
          ]
        }
      ]
    },
    {
      "cell_type": "code",
      "source": [
        "# 10. Case Study: Sum Dictionary Values\n",
        "# Problem: Calculate the total marks from a dictionary of subject marks.\n",
        "\n",
        "n = int(input(\"Enter number of subjects: \"))\n",
        "marks = {}\n",
        "for _ in range(n):\n",
        "    subject = input(\"Enter subject: \")\n",
        "    score = int(input(\"Enter score: \"))\n",
        "    marks[subject] = score\n",
        "print(\"Total:\", sum(marks.values()))"
      ],
      "metadata": {
        "colab": {
          "base_uri": "https://localhost:8080/"
        },
        "id": "4bwwN_FlA01I",
        "outputId": "d7a61496-4a95-4514-db5c-f8b95110fb9e"
      },
      "execution_count": 41,
      "outputs": [
        {
          "output_type": "stream",
          "name": "stdout",
          "text": [
            "Enter number of subjects: 2\n",
            "Enter subject: Mathematics\n",
            "Enter score: 90\n",
            "Enter subject: Malayalam\n",
            "Enter score: 99\n",
            "Total: 189\n"
          ]
        }
      ]
    },
    {
      "cell_type": "code",
      "source": [
        "# 11. Case Study: Reverse List\n",
        "# Problem: Reverse a list using a loop.\n",
        "\n",
        "numbers = list(map(int, input(\"Enter numbers separated by space: \").split()))\n",
        "reversed_list = []\n",
        "for i in range(len(numbers)-1, -1, -1):\n",
        "    reversed_list.append(numbers[i])\n",
        "print(reversed_list)"
      ],
      "metadata": {
        "colab": {
          "base_uri": "https://localhost:8080/"
        },
        "id": "Pv5DqTgKBp6y",
        "outputId": "c68587d2-12ac-4d94-f308-040bb0ba4c1c"
      },
      "execution_count": 42,
      "outputs": [
        {
          "output_type": "stream",
          "name": "stdout",
          "text": [
            "Enter numbers separated by space: 10 20 30 40 50 60 31 7\n",
            "[7, 31, 60, 50, 40, 30, 20, 10]\n"
          ]
        }
      ]
    },
    {
      "cell_type": "code",
      "source": [
        "# 12. Case Study: Login Verification\n",
        "# Problem: Use `==` operator to check if entered username matches the stored one.\n",
        "\n",
        "stored = input(\"Enter stored username: \")\n",
        "entered = input(\"Enter entered username: \")\n",
        "print(\"Login Successful\" if stored == entered else \"Login Failed\")"
      ],
      "metadata": {
        "colab": {
          "base_uri": "https://localhost:8080/"
        },
        "id": "nvQ-_M5yB_1d",
        "outputId": "8f916476-13b2-4c61-cc1b-b266ee298036"
      },
      "execution_count": 43,
      "outputs": [
        {
          "output_type": "stream",
          "name": "stdout",
          "text": [
            "Enter stored username: Aneetta\n",
            "Enter entered username: Aneetta\n",
            "Login Successful\n"
          ]
        }
      ]
    },
    {
      "cell_type": "code",
      "source": [
        "# 13. Case Study: Library Book Count\n",
        "# Problem: Loop through a dictionary to find the total number of books.\n",
        "\n",
        "n = int(input(\"Enter number of book categories: \"))\n",
        "books = {}\n",
        "for _ in range(n):\n",
        "    category = input(\"Enter category: \")\n",
        "    count = int(input(\"Enter book count: \"))\n",
        "    books[category] = count\n",
        "print(\"Total Books:\", sum(books.values()))"
      ],
      "metadata": {
        "colab": {
          "base_uri": "https://localhost:8080/"
        },
        "id": "FrVuX9VsCP7E",
        "outputId": "9d0b25c9-56bf-42ad-b0ac-4cb02c852696"
      },
      "execution_count": 44,
      "outputs": [
        {
          "output_type": "stream",
          "name": "stdout",
          "text": [
            "Enter number of book categories: 2\n",
            "Enter category: Thriller\n",
            "Enter book count: 3\n",
            "Enter category: Romance\n",
            "Enter book count: 2\n",
            "Total Books: 5\n"
          ]
        }
      ]
    },
    {
      "cell_type": "code",
      "source": [
        "# 14. Case Study: Divisibility Checker\n",
        "# Problem: Print numbers divisible by 3 from 1 to 20 using a loop.\n",
        "\n",
        "for i in range(1, 21):\n",
        "    if i % 3 == 0:\n",
        "        print(i, end=\", \")\n",
        "print()"
      ],
      "metadata": {
        "colab": {
          "base_uri": "https://localhost:8080/"
        },
        "id": "mObnDkMKCnzl",
        "outputId": "e7c549d1-c409-41b2-e766-19ed9db5ae2f"
      },
      "execution_count": 45,
      "outputs": [
        {
          "output_type": "stream",
          "name": "stdout",
          "text": [
            "3, 6, 9, 12, 15, 18, \n"
          ]
        }
      ]
    },
    {
      "cell_type": "code",
      "source": [
        "# 15. Case Study: Compare Two Lists\n",
        "# Problem: Use a loop and operator to compare elements of two lists and print common items.\n",
        "\n",
        "list1 = list(map(int, input(\"Enter first list: \").split()))\n",
        "list2 = list(map(int, input(\"Enter second list: \").split()))\n",
        "common = []\n",
        "for item in list1:\n",
        "    if item in list2:\n",
        "        common.append(item)\n",
        "print(common)"
      ],
      "metadata": {
        "colab": {
          "base_uri": "https://localhost:8080/"
        },
        "id": "Ef-CC2CeD3BF",
        "outputId": "df6de708-24de-48dc-d97c-7ccd70cddf04"
      },
      "execution_count": 46,
      "outputs": [
        {
          "output_type": "stream",
          "name": "stdout",
          "text": [
            "Enter first list: 2 4 7 14 18\n",
            "Enter second list: 5 8 14 18 55\n",
            "[14, 18]\n"
          ]
        }
      ]
    },
    {
      "cell_type": "code",
      "source": [
        "# 16. Case Study: Vowel Counter\n",
        "# Problem: Count the number of vowels in a word using loop and condition.\n",
        "\n",
        "word = input(\"Enter a word: \").lower()\n",
        "vowels = 'aeiou'\n",
        "count = 0\n",
        "for ch in word:\n",
        "    if ch in vowels:\n",
        "        count += 1\n",
        "print(count)"
      ],
      "metadata": {
        "colab": {
          "base_uri": "https://localhost:8080/"
        },
        "id": "ZpsgK7FlEEVk",
        "outputId": "0197018d-d4c2-49ca-b1c9-fb2679a653b7"
      },
      "execution_count": 48,
      "outputs": [
        {
          "output_type": "stream",
          "name": "stdout",
          "text": [
            "Enter a word: Hibiscus\n",
            "3\n"
          ]
        }
      ]
    },
    {
      "cell_type": "code",
      "source": [
        "# 17. Case Study: Duplicate Remover\n",
        "# Problem: Remove duplicates from a list using a set and convert back to list.\n",
        "\n",
        "numbers = list(map(int, input(\"Enter numbers: \").split()))\n",
        "unique_list = list(set(numbers))\n",
        "print(unique_list)"
      ],
      "metadata": {
        "colab": {
          "base_uri": "https://localhost:8080/"
        },
        "id": "Jc__jWmBEV-b",
        "outputId": "38e0eced-a8ed-4a7b-aafb-0b4e40ba02dd"
      },
      "execution_count": 49,
      "outputs": [
        {
          "output_type": "stream",
          "name": "stdout",
          "text": [
            "Enter numbers: 7 3 1 1 1 4 1 4 1 8\n",
            "[1, 3, 4, 7, 8]\n"
          ]
        }
      ]
    },
    {
      "cell_type": "code",
      "source": [
        "# 18. Case Study: Student Rank\n",
        "# Problem: Store and display student names with ranks using dictionary (Rank as key).\n",
        "\n",
        "n = int(input(\"Enter number of students: \"))\n",
        "students = {}\n",
        "for _ in range(n):\n",
        "    rank = int(input(\"Enter rank: \"))\n",
        "    name = input(\"Enter student name: \")\n",
        "    students[rank] = name\n",
        "for rank, name in sorted(students.items()):\n",
        "    print(f\"{rank} - {name}\")"
      ],
      "metadata": {
        "colab": {
          "base_uri": "https://localhost:8080/"
        },
        "id": "DUfn6qDnE4LT",
        "outputId": "8f4e6ad6-165e-4b0d-eacb-3fe1895ce8a8"
      },
      "execution_count": 50,
      "outputs": [
        {
          "output_type": "stream",
          "name": "stdout",
          "text": [
            "Enter number of students: 2\n",
            "Enter rank: 2\n",
            "Enter student name: Aneetta\n",
            "Enter rank: 1\n",
            "Enter student name: Ashik\n",
            "1 - Ashik\n",
            "2 - Aneetta\n"
          ]
        }
      ]
    },
    {
      "cell_type": "code",
      "source": [
        "# 19. Case Study: Nested Loop - Coordinate Printer\n",
        "# Problem: Print all coordinate pairs from two ranges using nested loops.\n",
        "\n",
        "x = int(input(\"Enter range1 limit: \"))\n",
        "y = int(input(\"Enter range2 limit: \"))\n",
        "for i in range(x):\n",
        "    for j in range(y):\n",
        "        print((i, j))"
      ],
      "metadata": {
        "id": "pQnptfFGLjCC",
        "outputId": "e6639582-c7d1-4d5d-d6a3-db6423b6d642",
        "colab": {
          "base_uri": "https://localhost:8080/"
        }
      },
      "execution_count": 51,
      "outputs": [
        {
          "output_type": "stream",
          "name": "stdout",
          "text": [
            "Enter range1 limit: 4\n",
            "Enter range2 limit: 3\n",
            "(0, 0)\n",
            "(0, 1)\n",
            "(0, 2)\n",
            "(1, 0)\n",
            "(1, 1)\n",
            "(1, 2)\n",
            "(2, 0)\n",
            "(2, 1)\n",
            "(2, 2)\n",
            "(3, 0)\n",
            "(3, 1)\n",
            "(3, 2)\n"
          ]
        }
      ]
    },
    {
      "cell_type": "code",
      "source": [
        "# 20. Case Study: Password Strength\n",
        "# Problem: Check if a password contains both digits and letters using loops and operators.\n",
        "\n",
        "password = input(\"Enter password: \")\n",
        "has_digit = has_alpha = False\n",
        "for ch in password:\n",
        "    if ch.isdigit():\n",
        "        has_digit = True\n",
        "    elif ch.isalpha():\n",
        "        has_alpha = True\n",
        "if has_digit and has_alpha:\n",
        "    print(\"Strong Password\")\n",
        "else:\n",
        "    print(\"Weak Password\")"
      ],
      "metadata": {
        "id": "FZ3G5iBaLklp",
        "outputId": "69787389-bd16-4b41-f621-fca88b2a6306",
        "colab": {
          "base_uri": "https://localhost:8080/"
        }
      },
      "execution_count": 52,
      "outputs": [
        {
          "output_type": "stream",
          "name": "stdout",
          "text": [
            "Enter password: abc123@\n",
            "Strong Password\n"
          ]
        }
      ]
    }
  ],
  "metadata": {
    "colab": {
      "name": "Welcome To Colab",
      "toc_visible": true,
      "provenance": []
    },
    "kernelspec": {
      "display_name": "Python 3",
      "name": "python3"
    }
  },
  "nbformat": 4,
  "nbformat_minor": 0
}