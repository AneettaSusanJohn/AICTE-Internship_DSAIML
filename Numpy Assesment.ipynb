{
  "cells": [
    {
      "cell_type": "code",
      "source": [
        "import numpy as np"
      ],
      "metadata": {
        "id": "LxymQEAJ9hAD"
      },
      "execution_count": 55,
      "outputs": []
    },
    {
      "cell_type": "code",
      "source": [
        "# 1. A teacher stores the scores of 10 students in a 1D NumPy array. Write code to display the 1D array and print scores greater than 50.\n",
        "\n",
        "scores = np.array(list(map(int, input(\"Enter 10 student scores separated by space: \").split())))\n",
        "print(\"Scores:\", scores)\n",
        "print(\"Scores > 50:\", scores[scores > 50])\n",
        "\n"
      ],
      "metadata": {
        "id": "zTWqe-BDSQwP",
        "outputId": "7d4b95f4-7d0a-4216-f1e9-5550f94e39b5",
        "colab": {
          "base_uri": "https://localhost:8080/"
        }
      },
      "execution_count": 56,
      "outputs": [
        {
          "output_type": "stream",
          "name": "stdout",
          "text": [
            "Enter 10 student scores separated by space: 90 100 80 40 20 89 99 29 45 75\n",
            "Scores: [ 90 100  80  40  20  89  99  29  45  75]\n",
            "Scores > 50: [ 90 100  80  89  99  75]\n"
          ]
        }
      ]
    },
    {
      "cell_type": "code",
      "source": [
        "# 2. Using the same scores array, find the mean score of the class.\n",
        "\n",
        "print(\"Mean Score:\", np.mean(scores))"
      ],
      "metadata": {
        "colab": {
          "base_uri": "https://localhost:8080/"
        },
        "id": "usY7cEqe9sAy",
        "outputId": "1572ef11-c314-4e19-80e5-8611f434ccdd"
      },
      "execution_count": 57,
      "outputs": [
        {
          "output_type": "stream",
          "name": "stdout",
          "text": [
            "Mean Score: 66.7\n"
          ]
        }
      ]
    },
    {
      "cell_type": "code",
      "source": [
        "# 3. Determine the median of the scores to check the central tendency.\n",
        "\n",
        "print(\"Median Score:\", np.median(scores))"
      ],
      "metadata": {
        "colab": {
          "base_uri": "https://localhost:8080/"
        },
        "id": "Po7GT5Ae-WOv",
        "outputId": "8e648027-243b-4586-db81-5adba3ef1750"
      },
      "execution_count": 58,
      "outputs": [
        {
          "output_type": "stream",
          "name": "stdout",
          "text": [
            "Median Score: 77.5\n"
          ]
        }
      ]
    },
    {
      "cell_type": "code",
      "source": [
        "# 4. Find the mode of the scores to identify the most frequent score.\n",
        "\n",
        "unique, counts = np.unique(scores, return_counts=True)\n",
        "\n",
        "# Find the index of the highest count\n",
        "max_count_index = np.argmax(counts)\n",
        "\n",
        "# The mode is the value at that index\n",
        "mode_score = unique[max_count_index]\n",
        "\n",
        "print(\"Mode of scores:\", mode_score)"
      ],
      "metadata": {
        "colab": {
          "base_uri": "https://localhost:8080/"
        },
        "id": "G2wj1eD1-rHx",
        "outputId": "af98f57e-82ac-42ad-a2a2-b171e55e9020"
      },
      "execution_count": 63,
      "outputs": [
        {
          "output_type": "stream",
          "name": "stdout",
          "text": [
            "Mode of scores: 20\n"
          ]
        }
      ]
    },
    {
      "cell_type": "code",
      "source": [
        "# 5. You are given a 2D NumPy array containing temperatures recorded over 4 weeks (rows) for 7 days (columns). Display the full array and the temperature of the second week.\n",
        "\n",
        "import numpy as np\n",
        "\n",
        "temps = []\n",
        "print(\"Enter temperatures for 4 weeks (7 values per week):\")\n",
        "for i in range(4):\n",
        "    week = list(map(int, input(f\"Week {i+1}: \").split()))\n",
        "    temps.append(week)\n",
        "\n",
        "temps = np.array(temps)\n",
        "\n",
        "print(\"Full Temperature Array:\\n\", temps)\n",
        "\n",
        "second_week = temps[1]\n",
        "print(\"Second week temperatures as array:\", \"[\" + \", \".join(map(str, second_week)) + \"]\")\n"
      ],
      "metadata": {
        "colab": {
          "base_uri": "https://localhost:8080/"
        },
        "id": "STOYQKwm_bLc",
        "outputId": "14fc4098-0d6b-436f-af43-1dc6d80b3eb6"
      },
      "execution_count": 64,
      "outputs": [
        {
          "output_type": "stream",
          "name": "stdout",
          "text": [
            "Enter temperatures for 4 weeks (7 values per week):\n",
            "Week 1: 30\n",
            "Week 2: 32\n",
            "Week 3: 31\n",
            "Week 4: 29\n",
            "Full Temperature Array:\n",
            " [[30]\n",
            " [32]\n",
            " [31]\n",
            " [29]]\n",
            "Second week temperatures as array: [32]\n"
          ]
        }
      ]
    },
    {
      "cell_type": "code",
      "source": [
        "# 6. Find the highest temperature of the month using NumPy.\n",
        "\n",
        "print(\"Highest Temperature:\", np.max(temps))"
      ],
      "metadata": {
        "colab": {
          "base_uri": "https://localhost:8080/"
        },
        "id": "Kq3ozk0j_lYQ",
        "outputId": "19ca381e-1799-4d3d-b1c3-ffdcda1f4ea0"
      },
      "execution_count": 65,
      "outputs": [
        {
          "output_type": "stream",
          "name": "stdout",
          "text": [
            "Highest Temperature: 32\n"
          ]
        }
      ]
    },
    {
      "cell_type": "code",
      "source": [
        "# 7. Normalize all temperatures using Min-Max normalization formula.\n",
        "\n",
        "min_val = np.min(temps)\n",
        "max_val = np.max(temps)\n",
        "normalized_temps = (temps - min_val) / (max_val - min_val)\n",
        "print(\"Normalized Temperatures:\\n\", normalized_temps)"
      ],
      "metadata": {
        "colab": {
          "base_uri": "https://localhost:8080/"
        },
        "id": "WwHe8XCy_6e2",
        "outputId": "a9fbdb93-a8a9-4db1-bf60-21ff8e720deb"
      },
      "execution_count": 66,
      "outputs": [
        {
          "output_type": "stream",
          "name": "stdout",
          "text": [
            "Normalized Temperatures:\n",
            " [[0.33333333]\n",
            " [1.        ]\n",
            " [0.66666667]\n",
            " [0.        ]]\n"
          ]
        }
      ]
    },
    {
      "cell_type": "code",
      "source": [
        "# 8. Calculate the standard deviation of the temperature data.\n",
        "\n",
        "print(\"Standard Deviation:\", np.std(temps))"
      ],
      "metadata": {
        "colab": {
          "base_uri": "https://localhost:8080/"
        },
        "id": "QJ2deRm7AB0l",
        "outputId": "e944e4fd-f9ad-4104-b00f-46885f9db82f"
      },
      "execution_count": 67,
      "outputs": [
        {
          "output_type": "stream",
          "name": "stdout",
          "text": [
            "Standard Deviation: 1.118033988749895\n"
          ]
        }
      ]
    },
    {
      "cell_type": "code",
      "source": [
        "# 9. A supermarket tracks stock of 3 products over 4 weeks and 5 categories. Represent this using a 3D NumPy array. Write code to access stock of 2nd product in week 3.\n",
        "\n",
        "print(\"Enter stock for 3 products over 4 weeks and 5 categories (60 values):\")\n",
        "stock_input = list(map(int, input().split()))\n",
        "stock = np.array(stock_input).reshape(3, 4, 5)\n",
        "print(\"Stock of 2nd product in week 3:\\n\", stock[1, 2])\n"
      ],
      "metadata": {
        "colab": {
          "base_uri": "https://localhost:8080/"
        },
        "id": "PfAFttF0Aa07",
        "outputId": "4582f300-e303-47ff-d3c7-65bacd533499"
      },
      "execution_count": 73,
      "outputs": [
        {
          "output_type": "stream",
          "name": "stdout",
          "text": [
            "Enter stock for 3 products over 4 weeks and 5 categories (60 values):\n",
            "1 2 3 4 5 6 7 8 9 10 11 12 13 14 15 16 17 18 19 20 21 22 23 24 25 26 27 28 29 30 31 32 33 34 35 36 37 38 39 40 41 42 43 44 45 46 47 48 49 50 51 52 53 54 55 56 57 58 59 60\n",
            "Stock of 2nd product in week 3:\n",
            " [31 32 33 34 35]\n"
          ]
        }
      ]
    },
    {
      "cell_type": "code",
      "source": [
        "# 10. Calculate the total stock of each product over all weeks and categories.\n",
        "\n",
        "total_stock = np.sum(stock, axis=(1, 2))\n",
        "print(\"Total stock per product:\", total_stock)"
      ],
      "metadata": {
        "colab": {
          "base_uri": "https://localhost:8080/"
        },
        "id": "4bwwN_FlA01I",
        "outputId": "859c54db-8732-4997-c52c-9c70a6edfe9e"
      },
      "execution_count": 74,
      "outputs": [
        {
          "output_type": "stream",
          "name": "stdout",
          "text": [
            "Total stock per product: [ 210  610 1010]\n"
          ]
        }
      ]
    },
    {
      "cell_type": "code",
      "source": [
        "# 11. A 1D NumPy array holds survey ratings (scale of 1–10) from 50 people. Find how many people rated more than 7.\n",
        "\n",
        "ratings = np.array(list(map(int, input(\"Enter 50 survey ratings (1-10 scale): \").split())))\n",
        "print(\"People who rated > 7:\", np.sum(ratings > 7))"
      ],
      "metadata": {
        "colab": {
          "base_uri": "https://localhost:8080/"
        },
        "id": "Pv5DqTgKBp6y",
        "outputId": "39cc88cb-f7f3-4e7f-e2a5-eff0a482ef8c"
      },
      "execution_count": 76,
      "outputs": [
        {
          "output_type": "stream",
          "name": "stdout",
          "text": [
            "Enter 50 survey ratings (1-10 scale): 7 8 5 6 9 10 4 6 7 8 6 5 9 7 8 6 5 4 3 9 8 7 6 5 4 7 6 8 9 10 3 2 5 6 7 8 9 6 5 4 7 6 5 8 9 4 3 7 6 5\n",
            "People who rated > 7: 15\n"
          ]
        }
      ]
    },
    {
      "cell_type": "code",
      "source": [
        "# 12. Count how many people gave a neutral rating (rating == 5).\n",
        "\n",
        "print(\"People who gave neutral rating (5):\", np.sum(ratings == 5))"
      ],
      "metadata": {
        "colab": {
          "base_uri": "https://localhost:8080/"
        },
        "id": "nvQ-_M5yB_1d",
        "outputId": "55134e56-f240-4954-a2d4-baeaa74e6a84"
      },
      "execution_count": 77,
      "outputs": [
        {
          "output_type": "stream",
          "name": "stdout",
          "text": [
            "People who gave neutral rating (5): 8\n"
          ]
        }
      ]
    },
    {
      "cell_type": "code",
      "source": [
        "# 13. Normalize the ratings between 0 and 1.\n",
        "\n",
        "ratings_normalized = (ratings - np.min(ratings)) / (np.max(ratings) - np.min(ratings))\n",
        "print(\"Normalized Ratings:\", ratings_normalized)"
      ],
      "metadata": {
        "colab": {
          "base_uri": "https://localhost:8080/"
        },
        "id": "FrVuX9VsCP7E",
        "outputId": "51831394-6d0f-4252-cc1c-1630891b4e27"
      },
      "execution_count": 78,
      "outputs": [
        {
          "output_type": "stream",
          "name": "stdout",
          "text": [
            "Normalized Ratings: [0.625 0.75  0.375 0.5   0.875 1.    0.25  0.5   0.625 0.75  0.5   0.375\n",
            " 0.875 0.625 0.75  0.5   0.375 0.25  0.125 0.875 0.75  0.625 0.5   0.375\n",
            " 0.25  0.625 0.5   0.75  0.875 1.    0.125 0.    0.375 0.5   0.625 0.75\n",
            " 0.875 0.5   0.375 0.25  0.625 0.5   0.375 0.75  0.875 0.25  0.125 0.625\n",
            " 0.5   0.375]\n"
          ]
        }
      ]
    },
    {
      "cell_type": "code",
      "source": [
        "# 14. A fitness app stores 7 days of step count for 5 users in a 2D array. Find the average steps per user.\n",
        "\n",
        "steps = []\n",
        "print(\"Enter 7 days of step counts for 5 users:\")\n",
        "for i in range(5):\n",
        "    user_steps = list(map(int, input(f\"User {i+1}: \").split()))\n",
        "    steps.append(user_steps)\n",
        "steps = np.array(steps)\n",
        "print(\"Average steps per user:\", np.mean(steps, axis=1))"
      ],
      "metadata": {
        "colab": {
          "base_uri": "https://localhost:8080/"
        },
        "id": "mObnDkMKCnzl",
        "outputId": "bbeb764c-1f4c-42a3-e9f7-92c6e79a790e"
      },
      "execution_count": 82,
      "outputs": [
        {
          "output_type": "stream",
          "name": "stdout",
          "text": [
            "Enter 7 days of step counts for 5 users:\n",
            "User 1: 284 294 102 438 275 128 248\n",
            "User 2: 124 538 194 596 836 924 284\n",
            "User 3: 281  238 853 218 284 473 583\n",
            "User 4: 823 375 532 375 835 237 823\n",
            "User 5: 237 182 538 273 583 277 283\n",
            "Average steps per user: [252.71428571 499.42857143 418.57142857 571.42857143 339.        ]\n"
          ]
        }
      ]
    },
    {
      "cell_type": "code",
      "source": [
        "# 15. Display the steps recorded on day 3 for all users.\n",
        "\n",
        "print(\"Steps on Day 3 for all users:\", steps[:, 2])"
      ],
      "metadata": {
        "colab": {
          "base_uri": "https://localhost:8080/"
        },
        "id": "Ef-CC2CeD3BF",
        "outputId": "6821bb63-4d33-4cab-8caa-66fef17ce136"
      },
      "execution_count": 83,
      "outputs": [
        {
          "output_type": "stream",
          "name": "stdout",
          "text": [
            "Steps on Day 3 for all users: [102 194 853 532 538]\n"
          ]
        }
      ]
    },
    {
      "cell_type": "code",
      "source": [
        "# 16. Identify users who walked more than 7000 steps on any day.\n",
        "\n",
        "users_above_7000 = np.where(np.any(steps > 7000, axis=1))[0]\n",
        "print(\"Users who walked more than 7000 steps on any day:\", users_above_7000)"
      ],
      "metadata": {
        "colab": {
          "base_uri": "https://localhost:8080/"
        },
        "id": "ZpsgK7FlEEVk",
        "outputId": "994307cf-239f-4ef2-aa36-e22099200e35"
      },
      "execution_count": 84,
      "outputs": [
        {
          "output_type": "stream",
          "name": "stdout",
          "text": [
            "Users who walked more than 7000 steps on any day: []\n"
          ]
        }
      ]
    },
    {
      "cell_type": "code",
      "source": [
        "# 17. Record the results of 10 trials for 3 chemical samples using a 2D array. Calculate the mean result for each chemical.\n",
        "\n",
        "print(\"Enter results of 10 trials for 3 chemicals (30 values):\")\n",
        "results = np.array(list(map(float, input().split()))).reshape(10, 3)\n",
        "mean_results = np.mean(results, axis=0)\n",
        "print(\"Mean result per chemical:\", mean_results)"
      ],
      "metadata": {
        "colab": {
          "base_uri": "https://localhost:8080/"
        },
        "id": "Jc__jWmBEV-b",
        "outputId": "7b133ce8-bc35-470a-815b-ecfe06199321"
      },
      "execution_count": 85,
      "outputs": [
        {
          "output_type": "stream",
          "name": "stdout",
          "text": [
            "Enter results of 10 trials for 3 chemicals (30 values):\n",
            "5.6 5.8 5.7 6.1 6.0 6.2 5.9 6.1 6.0 5.7 5.6 5.8 6.0 6.2 6.1 5.8 5.9 5.7 6.1 6.0 6.3 5.9 5.8 5.7 6.2 6.3 6.1 5.7 5.6 5.8\n",
            "Mean result per chemical: [5.9  5.93 5.94]\n"
          ]
        }
      ]
    },
    {
      "cell_type": "code",
      "source": [
        "# 18. Determine which trial had the highest deviation from the mean for each sample.\n",
        "\n",
        "deviation = np.abs(results - mean_results)\n",
        "max_deviation_trials = np.argmax(deviation, axis=0)\n",
        "print(\"Trial with highest deviation for each chemical:\", max_deviation_trials)"
      ],
      "metadata": {
        "colab": {
          "base_uri": "https://localhost:8080/"
        },
        "id": "DUfn6qDnE4LT",
        "outputId": "a05cb663-2e52-4940-a1cd-6d2a3bcc76d3"
      },
      "execution_count": 86,
      "outputs": [
        {
          "output_type": "stream",
          "name": "stdout",
          "text": [
            "Trial with highest deviation for each chemical: [0 8 6]\n"
          ]
        }
      ]
    },
    {
      "cell_type": "code",
      "source": [
        "# 19. A hospital records 3 vital signs for 2 patients over 5 days. Store this in a 3D array and retrieve the vitals for the first patient on day 4.\n",
        "\n",
        "print(\"Enter vitals for 2 patients over 5 days (3 vitals per day, total 30 values per patient):\")\n",
        "vitals_input = list(map(int, input().split()))\n",
        "vitals = np.array(vitals_input).reshape(2, 5, 3)\n",
        "print(\"Vitals for patient 1 on day 4:\", vitals[0, 3])"
      ],
      "metadata": {
        "colab": {
          "base_uri": "https://localhost:8080/"
        },
        "id": "pQnptfFGLjCC",
        "outputId": "7ed5c48f-12d6-4f90-f2a5-f5992553852b"
      },
      "execution_count": 87,
      "outputs": [
        {
          "output_type": "stream",
          "name": "stdout",
          "text": [
            "Enter vitals for 2 patients over 5 days (3 vitals per day, total 30 values per patient):\n",
            "120 80 70 122 82 72 119 78 68 121 79 71 118 77 69   130 85 75 128 83 74 129 84 76 131 86 77 127 82 73\n",
            "Vitals for patient 1 on day 4: [121  79  71]\n"
          ]
        }
      ]
    },
    {
      "cell_type": "code",
      "source": [
        "# 20. Find the mode of a particular vital sign for one patient across all days.\n",
        "\n",
        "vital_sign_values = vitals[0, :, 1]\n",
        "values, counts = np.unique(vital_sign_values, return_counts=True)\n",
        "mode_value = values[np.argmax(counts)]\n",
        "print(\"Mode of vital sign:\", mode_value)"
      ],
      "metadata": {
        "colab": {
          "base_uri": "https://localhost:8080/"
        },
        "id": "FZ3G5iBaLklp",
        "outputId": "0e3b1fd9-8ad2-4a64-a3c9-78b39b495d7a"
      },
      "execution_count": 89,
      "outputs": [
        {
          "output_type": "stream",
          "name": "stdout",
          "text": [
            "Mode of vital sign: 77\n"
          ]
        }
      ]
    }
  ],
  "metadata": {
    "colab": {
      "name": "Welcome To Colab",
      "toc_visible": true,
      "provenance": []
    },
    "kernelspec": {
      "display_name": "Python 3",
      "name": "python3"
    }
  },
  "nbformat": 4,
  "nbformat_minor": 0
}