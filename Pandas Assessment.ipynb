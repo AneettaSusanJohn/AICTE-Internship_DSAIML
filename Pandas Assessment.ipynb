{
  "cells": [
    {
      "cell_type": "code",
      "source": [
        "# Q1. Create a Pandas Series using a list of 5 fruits. Print the 3rd fruit using index.\n",
        "\n",
        "import pandas as pd\n",
        "\n",
        "fruits = input(\"Enter 5 fruits separated by space: \").split()\n",
        "series = pd.Series(fruits)\n",
        "print(\"3rd fruit is:\", series[2])"
      ],
      "metadata": {
        "colab": {
          "base_uri": "https://localhost:8080/"
        },
        "id": "LxymQEAJ9hAD",
        "outputId": "e006f5c5-a178-4682-ef83-2ea28030df2f"
      },
      "execution_count": 107,
      "outputs": [
        {
          "output_type": "stream",
          "name": "stdout",
          "text": [
            "Enter 5 fruits separated by space: Apple Orange Guava Grapes Mango\n",
            "3rd fruit is: Guava\n"
          ]
        }
      ]
    },
    {
      "cell_type": "code",
      "source": [
        "# Q2. You are given a list of student names and their scores. Convert it into a Series and display the score of the student named \"Anu\".\n",
        "\n",
        "names = input(\"Enter student names separated by space: \").split()\n",
        "scores = list(map(int, input(\"Enter scores for each student: \").split()))\n",
        "series = pd.Series(scores, index=names)\n",
        "print(\"Score of Anu:\", series[\"Anu\"])"
      ],
      "metadata": {
        "colab": {
          "base_uri": "https://localhost:8080/"
        },
        "id": "zTWqe-BDSQwP",
        "outputId": "a4022398-f140-47c2-f417-3d49db9942db"
      },
      "execution_count": 109,
      "outputs": [
        {
          "output_type": "stream",
          "name": "stdout",
          "text": [
            "Enter student names separated by space: Aneetta Ashik Anu\n",
            "Enter scores for each student: 100 90 80\n",
            "Score of Anu: 80\n"
          ]
        }
      ]
    },
    {
      "cell_type": "code",
      "source": [
        "# Q3. Create a DataFrame with columns Name, Age, Marks. Display only the Marks column.\n",
        "\n",
        "data = []\n",
        "n = int(input(\"Enter number of students: \"))\n",
        "for i in range(n):\n",
        "    name = input(f\"Name {i+1}: \")\n",
        "    age = int(input(f\"Age {i+1}: \"))\n",
        "    marks = float(input(f\"Marks {i+1}: \"))\n",
        "    data.append([name, age, marks])\n",
        "\n",
        "df = pd.DataFrame(data, columns=[\"Name\", \"Age\", \"Marks\"])\n",
        "print(\"Marks column:\\n\", df[\"Marks\"])"
      ],
      "metadata": {
        "colab": {
          "base_uri": "https://localhost:8080/"
        },
        "id": "usY7cEqe9sAy",
        "outputId": "c7e6c741-462a-4db6-c46b-6cd889704a10"
      },
      "execution_count": 110,
      "outputs": [
        {
          "output_type": "stream",
          "name": "stdout",
          "text": [
            "Enter number of students: 2\n",
            "Name 1: Aneetta\n",
            "Age 1: 25\n",
            "Marks 1: 100\n",
            "Name 2: Ashik\n",
            "Age 2: 28\n",
            "Marks 2: 100\n",
            "Marks column:\n",
            " 0    100.0\n",
            "1    100.0\n",
            "Name: Marks, dtype: float64\n"
          ]
        }
      ]
    },
    {
      "cell_type": "code",
      "source": [
        "# Q4. From a DataFrame of employees with columns Name, Salary, and Department, use .loc to display the salary of the employee named \"Raj\".\n",
        "\n",
        "names = input(\"Enter employee names: \").split()\n",
        "salaries = list(map(float, input(\"Enter their salaries: \").split()))\n",
        "departments = input(\"Enter their departments: \").split()\n",
        "\n",
        "df = pd.DataFrame({\"Name\": names, \"Salary\": salaries, \"Department\": departments})\n",
        "if \"Raj\" in df[\"Name\"].values:\n",
        "    print(\"Salary of Raj:\", df.loc[df[\"Name\"] == \"Raj\", \"Salary\"].values[0])\n",
        "else:\n",
        "    print(\"No employee named Raj is present.\")"
      ],
      "metadata": {
        "colab": {
          "base_uri": "https://localhost:8080/"
        },
        "id": "Po7GT5Ae-WOv",
        "outputId": "b501393b-9cdf-4448-cfc7-baf4855f9de8"
      },
      "execution_count": 115,
      "outputs": [
        {
          "output_type": "stream",
          "name": "stdout",
          "text": [
            "Enter employee names: Raj Ravi Neha Priya\n",
            "Enter their salaries: 50000 45000 60000 55000\n",
            "Enter their departments: HR Sales IT Finance\n",
            "Salary of Raj: 50000.0\n"
          ]
        }
      ]
    },
    {
      "cell_type": "code",
      "source": [
        "# Q5. Use .iloc to print the first 3 rows from a DataFrame containing student information.\n",
        "\n",
        "data = []\n",
        "n = int(input(\"Enter number of students: \"))\n",
        "for i in range(n):\n",
        "    name = input(f\"Name {i+1}: \")\n",
        "    age = int(input(f\"Age {i+1}: \"))\n",
        "    score = float(input(f\"Score {i+1}: \"))\n",
        "    data.append([name, age, score])\n",
        "\n",
        "df = pd.DataFrame(data, columns=[\"Name\", \"Age\", \"Score\"])\n",
        "print(\"First 3 rows:\\n\", df.iloc[:3])"
      ],
      "metadata": {
        "colab": {
          "base_uri": "https://localhost:8080/"
        },
        "id": "G2wj1eD1-rHx",
        "outputId": "ca019f95-e030-4483-b538-a41246e64578"
      },
      "execution_count": 116,
      "outputs": [
        {
          "output_type": "stream",
          "name": "stdout",
          "text": [
            "Enter number of students: 4\n",
            "Name 1: Aneetta\n",
            "Age 1: 25\n",
            "Score 1: 90\n",
            "Name 2: Ashik\n",
            "Age 2: 28\n",
            "Score 2: 100\n",
            "Name 3: Abhishek\n",
            "Age 3: 19\n",
            "Score 3: 99\n",
            "Name 4: Ashitha\n",
            "Age 4: 18\n",
            "Score 4: 95\n",
            "First 3 rows:\n",
            "        Name  Age  Score\n",
            "0   Aneetta   25   90.0\n",
            "1     Ashik   28  100.0\n",
            "2  Abhishek   19   99.0\n"
          ]
        }
      ]
    },
    {
      "cell_type": "code",
      "source": [
        "# Q6. Given a DataFrame of customer records, use .at to update the value of a specific cell at row index 2 and column Name.\n",
        "\n",
        "data = []\n",
        "for i in range(4):\n",
        "    name = input(f\"Enter Name {i+1}: \")\n",
        "    age = int(input(f\"Enter Age {i+1}: \"))\n",
        "    data.append([name, age])\n",
        "\n",
        "df = pd.DataFrame(data, columns=[\"Name\", \"Age\"])\n",
        "new_name = input(\"Enter new name to update at row index 2: \")\n",
        "df.at[2, \"Name\"] = new_name\n",
        "print(\"Updated DataFrame:\\n\", df)"
      ],
      "metadata": {
        "colab": {
          "base_uri": "https://localhost:8080/"
        },
        "id": "STOYQKwm_bLc",
        "outputId": "ce3bf811-a977-433e-ae94-6ed1eb17f7bb"
      },
      "execution_count": 117,
      "outputs": [
        {
          "output_type": "stream",
          "name": "stdout",
          "text": [
            "Enter Name 1: Aneetta\n",
            "Enter Age 1: 25\n",
            "Enter Name 2: Ashik\n",
            "Enter Age 2: 28\n",
            "Enter Name 3: Abhishek\n",
            "Enter Age 3: 19\n",
            "Enter Name 4: Ashitha\n",
            "Enter Age 4: 18\n",
            "Enter new name to update at row index 2: Neethu\n",
            "Updated DataFrame:\n",
            "       Name  Age\n",
            "0  Aneetta   25\n",
            "1    Ashik   28\n",
            "2   Neethu   19\n",
            "3  Ashitha   18\n"
          ]
        }
      ]
    },
    {
      "cell_type": "code",
      "source": [
        "# Q7. Create a DataFrame with some NaN values in the Marks column. Replace all NaN values with the average (mean) of the Marks column.\n",
        "\n",
        "import pandas as pd\n",
        "import numpy as np\n",
        "\n",
        "names = input(\"Enter student names: \").split()\n",
        "marks = []\n",
        "\n",
        "for name in names:\n",
        "    val = input(f\"Enter marks for {name} (or 'nan'): \")\n",
        "    marks.append(float(val) if val.lower() != \"nan\" else np.nan)\n",
        "\n",
        "df = pd.DataFrame({\"Name\": names, \"Marks\": marks})\n",
        "\n",
        "# Calculate mean\n",
        "mean_val = df[\"Marks\"].mean()\n",
        "\n",
        "# Use .loc[] to assign values to NaNs\n",
        "df.loc[df[\"Marks\"].isna(), \"Marks\"] = mean_val\n",
        "\n",
        "print(\"After filling NaN with mean:\\n\", df)"
      ],
      "metadata": {
        "colab": {
          "base_uri": "https://localhost:8080/"
        },
        "id": "Kq3ozk0j_lYQ",
        "outputId": "8185ae04-aa20-4cff-bed5-54da7b5fb898"
      },
      "execution_count": 121,
      "outputs": [
        {
          "output_type": "stream",
          "name": "stdout",
          "text": [
            "Enter student names: Aneetta Ashik\n",
            "Enter marks for Aneetta (or 'nan'): nan\n",
            "Enter marks for Ashik (or 'nan'): 100\n",
            "After filling NaN with mean:\n",
            "       Name  Marks\n",
            "0  Aneetta  100.0\n",
            "1    Ashik  100.0\n"
          ]
        }
      ]
    },
    {
      "cell_type": "code",
      "source": [
        "# Q8. Load an Excel file named students.xlsx containing student data. Print the first 5 rows of the file.\n",
        "\n",
        "from google.colab import files\n",
        "import pandas as pd\n",
        "\n",
        "uploaded = files.upload()\n",
        "\n",
        "df = pd.read_excel(\"students.xlsx\")\n",
        "print(\"First 5 rows:\\n\", df.head())\n"
      ],
      "metadata": {
        "colab": {
          "base_uri": "https://localhost:8080/",
          "height": 194
        },
        "id": "WwHe8XCy_6e2",
        "outputId": "0735948d-e3d5-410d-be75-418e90e3f4ee"
      },
      "execution_count": 124,
      "outputs": [
        {
          "output_type": "display_data",
          "data": {
            "text/plain": [
              "<IPython.core.display.HTML object>"
            ],
            "text/html": [
              "\n",
              "     <input type=\"file\" id=\"files-54f7a337-1279-44e2-ac27-76ebb10cca53\" name=\"files[]\" multiple disabled\n",
              "        style=\"border:none\" />\n",
              "     <output id=\"result-54f7a337-1279-44e2-ac27-76ebb10cca53\">\n",
              "      Upload widget is only available when the cell has been executed in the\n",
              "      current browser session. Please rerun this cell to enable.\n",
              "      </output>\n",
              "      <script>// Copyright 2017 Google LLC\n",
              "//\n",
              "// Licensed under the Apache License, Version 2.0 (the \"License\");\n",
              "// you may not use this file except in compliance with the License.\n",
              "// You may obtain a copy of the License at\n",
              "//\n",
              "//      http://www.apache.org/licenses/LICENSE-2.0\n",
              "//\n",
              "// Unless required by applicable law or agreed to in writing, software\n",
              "// distributed under the License is distributed on an \"AS IS\" BASIS,\n",
              "// WITHOUT WARRANTIES OR CONDITIONS OF ANY KIND, either express or implied.\n",
              "// See the License for the specific language governing permissions and\n",
              "// limitations under the License.\n",
              "\n",
              "/**\n",
              " * @fileoverview Helpers for google.colab Python module.\n",
              " */\n",
              "(function(scope) {\n",
              "function span(text, styleAttributes = {}) {\n",
              "  const element = document.createElement('span');\n",
              "  element.textContent = text;\n",
              "  for (const key of Object.keys(styleAttributes)) {\n",
              "    element.style[key] = styleAttributes[key];\n",
              "  }\n",
              "  return element;\n",
              "}\n",
              "\n",
              "// Max number of bytes which will be uploaded at a time.\n",
              "const MAX_PAYLOAD_SIZE = 100 * 1024;\n",
              "\n",
              "function _uploadFiles(inputId, outputId) {\n",
              "  const steps = uploadFilesStep(inputId, outputId);\n",
              "  const outputElement = document.getElementById(outputId);\n",
              "  // Cache steps on the outputElement to make it available for the next call\n",
              "  // to uploadFilesContinue from Python.\n",
              "  outputElement.steps = steps;\n",
              "\n",
              "  return _uploadFilesContinue(outputId);\n",
              "}\n",
              "\n",
              "// This is roughly an async generator (not supported in the browser yet),\n",
              "// where there are multiple asynchronous steps and the Python side is going\n",
              "// to poll for completion of each step.\n",
              "// This uses a Promise to block the python side on completion of each step,\n",
              "// then passes the result of the previous step as the input to the next step.\n",
              "function _uploadFilesContinue(outputId) {\n",
              "  const outputElement = document.getElementById(outputId);\n",
              "  const steps = outputElement.steps;\n",
              "\n",
              "  const next = steps.next(outputElement.lastPromiseValue);\n",
              "  return Promise.resolve(next.value.promise).then((value) => {\n",
              "    // Cache the last promise value to make it available to the next\n",
              "    // step of the generator.\n",
              "    outputElement.lastPromiseValue = value;\n",
              "    return next.value.response;\n",
              "  });\n",
              "}\n",
              "\n",
              "/**\n",
              " * Generator function which is called between each async step of the upload\n",
              " * process.\n",
              " * @param {string} inputId Element ID of the input file picker element.\n",
              " * @param {string} outputId Element ID of the output display.\n",
              " * @return {!Iterable<!Object>} Iterable of next steps.\n",
              " */\n",
              "function* uploadFilesStep(inputId, outputId) {\n",
              "  const inputElement = document.getElementById(inputId);\n",
              "  inputElement.disabled = false;\n",
              "\n",
              "  const outputElement = document.getElementById(outputId);\n",
              "  outputElement.innerHTML = '';\n",
              "\n",
              "  const pickedPromise = new Promise((resolve) => {\n",
              "    inputElement.addEventListener('change', (e) => {\n",
              "      resolve(e.target.files);\n",
              "    });\n",
              "  });\n",
              "\n",
              "  const cancel = document.createElement('button');\n",
              "  inputElement.parentElement.appendChild(cancel);\n",
              "  cancel.textContent = 'Cancel upload';\n",
              "  const cancelPromise = new Promise((resolve) => {\n",
              "    cancel.onclick = () => {\n",
              "      resolve(null);\n",
              "    };\n",
              "  });\n",
              "\n",
              "  // Wait for the user to pick the files.\n",
              "  const files = yield {\n",
              "    promise: Promise.race([pickedPromise, cancelPromise]),\n",
              "    response: {\n",
              "      action: 'starting',\n",
              "    }\n",
              "  };\n",
              "\n",
              "  cancel.remove();\n",
              "\n",
              "  // Disable the input element since further picks are not allowed.\n",
              "  inputElement.disabled = true;\n",
              "\n",
              "  if (!files) {\n",
              "    return {\n",
              "      response: {\n",
              "        action: 'complete',\n",
              "      }\n",
              "    };\n",
              "  }\n",
              "\n",
              "  for (const file of files) {\n",
              "    const li = document.createElement('li');\n",
              "    li.append(span(file.name, {fontWeight: 'bold'}));\n",
              "    li.append(span(\n",
              "        `(${file.type || 'n/a'}) - ${file.size} bytes, ` +\n",
              "        `last modified: ${\n",
              "            file.lastModifiedDate ? file.lastModifiedDate.toLocaleDateString() :\n",
              "                                    'n/a'} - `));\n",
              "    const percent = span('0% done');\n",
              "    li.appendChild(percent);\n",
              "\n",
              "    outputElement.appendChild(li);\n",
              "\n",
              "    const fileDataPromise = new Promise((resolve) => {\n",
              "      const reader = new FileReader();\n",
              "      reader.onload = (e) => {\n",
              "        resolve(e.target.result);\n",
              "      };\n",
              "      reader.readAsArrayBuffer(file);\n",
              "    });\n",
              "    // Wait for the data to be ready.\n",
              "    let fileData = yield {\n",
              "      promise: fileDataPromise,\n",
              "      response: {\n",
              "        action: 'continue',\n",
              "      }\n",
              "    };\n",
              "\n",
              "    // Use a chunked sending to avoid message size limits. See b/62115660.\n",
              "    let position = 0;\n",
              "    do {\n",
              "      const length = Math.min(fileData.byteLength - position, MAX_PAYLOAD_SIZE);\n",
              "      const chunk = new Uint8Array(fileData, position, length);\n",
              "      position += length;\n",
              "\n",
              "      const base64 = btoa(String.fromCharCode.apply(null, chunk));\n",
              "      yield {\n",
              "        response: {\n",
              "          action: 'append',\n",
              "          file: file.name,\n",
              "          data: base64,\n",
              "        },\n",
              "      };\n",
              "\n",
              "      let percentDone = fileData.byteLength === 0 ?\n",
              "          100 :\n",
              "          Math.round((position / fileData.byteLength) * 100);\n",
              "      percent.textContent = `${percentDone}% done`;\n",
              "\n",
              "    } while (position < fileData.byteLength);\n",
              "  }\n",
              "\n",
              "  // All done.\n",
              "  yield {\n",
              "    response: {\n",
              "      action: 'complete',\n",
              "    }\n",
              "  };\n",
              "}\n",
              "\n",
              "scope.google = scope.google || {};\n",
              "scope.google.colab = scope.google.colab || {};\n",
              "scope.google.colab._files = {\n",
              "  _uploadFiles,\n",
              "  _uploadFilesContinue,\n",
              "};\n",
              "})(self);\n",
              "</script> "
            ]
          },
          "metadata": {}
        },
        {
          "output_type": "stream",
          "name": "stdout",
          "text": [
            "Saving students.xlsx to students.xlsx\n",
            "First 5 rows:\n",
            "       Name  Age  Marks Grade\n",
            "0  Aneetta   19     88     A\n",
            "1    Ashik   20     75     B\n",
            "2     Ravi   21     92     A\n",
            "3     Neha   20     67     C\n",
            "4    Meera   19     73     B\n"
          ]
        }
      ]
    },
    {
      "cell_type": "code",
      "source": [
        "# Q9. After loading the Excel file, check and display the rows where the Age column is null using .loc.\n",
        "\n",
        "df = pd.read_excel(\"students.xlsx\")\n",
        "print(\"Rows with null Age:\\n\", df.loc[df[\"Age\"].isnull()])"
      ],
      "metadata": {
        "colab": {
          "base_uri": "https://localhost:8080/"
        },
        "id": "QJ2deRm7AB0l",
        "outputId": "6acb8c16-6e8d-4498-ff20-fd6247af5e43"
      },
      "execution_count": 125,
      "outputs": [
        {
          "output_type": "stream",
          "name": "stdout",
          "text": [
            "Rows with null Age:\n",
            " Empty DataFrame\n",
            "Columns: [Name, Age, Marks, Grade]\n",
            "Index: []\n"
          ]
        }
      ]
    },
    {
      "cell_type": "code",
      "source": [
        "# Q10. Calculate the mean of the Salary column from a DataFrame of employee details.\n",
        "\n",
        "salaries = list(map(float, input(\"Enter salaries: \").split()))\n",
        "df = pd.DataFrame({\"Salary\": salaries})\n",
        "print(\"Mean Salary:\", df[\"Salary\"].mean())"
      ],
      "metadata": {
        "colab": {
          "base_uri": "https://localhost:8080/"
        },
        "id": "PfAFttF0Aa07",
        "outputId": "a79c286d-d103-48a7-d754-b29fbd819097"
      },
      "execution_count": 126,
      "outputs": [
        {
          "output_type": "stream",
          "name": "stdout",
          "text": [
            "Enter salaries: 30000 45000 24000\n",
            "Mean Salary: 33000.0\n"
          ]
        }
      ]
    },
    {
      "cell_type": "code",
      "source": [
        "# Q11. You are given a DataFrame df with missing values in the Score column. Use .loc to fill only those missing values with 75.\n",
        "\n",
        "names = input(\"Enter names: \").split()\n",
        "scores = []\n",
        "for name in names:\n",
        "    s = input(f\"Enter score for {name} (or 'nan'): \")\n",
        "    scores.append(float(s) if s.lower() != \"nan\" else np.nan)\n",
        "\n",
        "df = pd.DataFrame({\"Name\": names, \"Score\": scores})\n",
        "df.loc[df[\"Score\"].isnull(), \"Score\"] = 75\n",
        "print(\"Updated DataFrame:\\n\", df)"
      ],
      "metadata": {
        "colab": {
          "base_uri": "https://localhost:8080/"
        },
        "id": "4bwwN_FlA01I",
        "outputId": "30260f87-75e6-4ee4-c9e6-da3896d0781f"
      },
      "execution_count": 127,
      "outputs": [
        {
          "output_type": "stream",
          "name": "stdout",
          "text": [
            "Enter names: Aneetta Ashik Abhishek\n",
            "Enter score for Aneetta (or 'nan'): 95\n",
            "Enter score for Ashik (or 'nan'): 99\n",
            "Enter score for Abhishek (or 'nan'): nan\n",
            "Updated DataFrame:\n",
            "        Name  Score\n",
            "0   Aneetta   95.0\n",
            "1     Ashik   99.0\n",
            "2  Abhishek   75.0\n"
          ]
        }
      ]
    },
    {
      "cell_type": "code",
      "source": [
        "# Q12. Given a DataFrame df with student grades, use .iloc to print rows 2 to 5 and columns 1 to 3.\n",
        "\n",
        "data = []\n",
        "for i in range(6):\n",
        "    row = input(f\"Enter Name, Age, Grade for student {i+1} (space-separated): \").split()\n",
        "    data.append(row)\n",
        "\n",
        "df = pd.DataFrame(data, columns=[\"Name\", \"Age\", \"Grade\"])\n",
        "print(\"Rows 2 to 5, Columns 1 to 3:\\n\", df.iloc[2:6, 1:4])"
      ],
      "metadata": {
        "colab": {
          "base_uri": "https://localhost:8080/"
        },
        "id": "Pv5DqTgKBp6y",
        "outputId": "7623427e-1a7d-43dc-e006-0a309d868d9c"
      },
      "execution_count": 128,
      "outputs": [
        {
          "output_type": "stream",
          "name": "stdout",
          "text": [
            "Enter Name, Age, Grade for student 1 (space-separated): Aneetta 25 95\n",
            "Enter Name, Age, Grade for student 2 (space-separated): Ashik 28 99\n",
            "Enter Name, Age, Grade for student 3 (space-separated): Abhishek 19 100\n",
            "Enter Name, Age, Grade for student 4 (space-separated): Ashitha 18 98\n",
            "Enter Name, Age, Grade for student 5 (space-separated): Neethu 25 100\n",
            "Enter Name, Age, Grade for student 6 (space-separated): Snehal 24 97\n",
            "Rows 2 to 5, Columns 1 to 3:\n",
            "   Age Grade\n",
            "2  19   100\n",
            "3  18    98\n",
            "4  25   100\n",
            "5  24    97\n"
          ]
        }
      ]
    },
    {
      "cell_type": "code",
      "source": [
        "# Q13. Use .loc to filter and print all rows where the Age is greater than 20 from a DataFrame.\n",
        "\n",
        "names = input(\"Enter names: \").split()\n",
        "ages = list(map(int, input(\"Enter ages: \").split()))\n",
        "\n",
        "df = pd.DataFrame({\"Name\": names, \"Age\": ages})\n",
        "print(\"Age > 20:\\n\", df.loc[df[\"Age\"] > 20])"
      ],
      "metadata": {
        "colab": {
          "base_uri": "https://localhost:8080/"
        },
        "id": "nvQ-_M5yB_1d",
        "outputId": "3131e7ec-c163-426b-b743-1b670d957016"
      },
      "execution_count": 129,
      "outputs": [
        {
          "output_type": "stream",
          "name": "stdout",
          "text": [
            "Enter names: Aneetta Ashik Abhishek Ashitha\n",
            "Enter ages: 25 28 19 18\n",
            "Age > 20:\n",
            "       Name  Age\n",
            "0  Aneetta   25\n",
            "1    Ashik   28\n"
          ]
        }
      ]
    },
    {
      "cell_type": "code",
      "source": [
        "# Q14. Create a DataFrame from a dictionary of items (Item, Quantity, Price) and calculate the total price for each row using a new column Total = Quantity * Price.\n",
        "\n",
        "items = input(\"Enter item names: \").split()\n",
        "qtys = list(map(int, input(\"Enter quantities: \").split()))\n",
        "prices = list(map(float, input(\"Enter prices: \").split()))\n",
        "\n",
        "df = pd.DataFrame({\"Item\": items, \"Quantity\": qtys, \"Price\": prices})\n",
        "df[\"Total\"] = df[\"Quantity\"] * df[\"Price\"]\n",
        "print(\"With Total column:\\n\", df)"
      ],
      "metadata": {
        "colab": {
          "base_uri": "https://localhost:8080/"
        },
        "id": "FrVuX9VsCP7E",
        "outputId": "a8a4968f-967d-4dc2-9a67-c17b7e11c73d"
      },
      "execution_count": 130,
      "outputs": [
        {
          "output_type": "stream",
          "name": "stdout",
          "text": [
            "Enter item names: Pen Milk Butter\n",
            "Enter quantities: 10 4 2\n",
            "Enter prices: 10 30 40\n",
            "With Total column:\n",
            "      Item  Quantity  Price  Total\n",
            "0     Pen        10   10.0  100.0\n",
            "1    Milk         4   30.0  120.0\n",
            "2  Butter         2   40.0   80.0\n"
          ]
        }
      ]
    },
    {
      "cell_type": "code",
      "source": [
        "# Q15. You have a DataFrame of city temperatures. Some values in the Temperature column are missing. Fill them using the average temperature calculated using mean().\n",
        "\n",
        "cities = input(\"Enter city names: \").split()\n",
        "temps = []\n",
        "for city in cities:\n",
        "    t = input(f\"Enter temperature for {city} (or 'nan'): \")\n",
        "    temps.append(float(t) if t.lower() != \"nan\" else np.nan)\n",
        "\n",
        "df = pd.DataFrame({\"City\": cities, \"Temperature\": temps})\n",
        "\n",
        "mean_temp = df[\"Temperature\"].mean()\n",
        "\n",
        "df.loc[df[\"Temperature\"].isna(), \"Temperature\"] = mean_temp\n",
        "\n",
        "print(\"Updated Temperatures:\\n\", df)\n"
      ],
      "metadata": {
        "id": "QU3Eg7Tdfb6f",
        "outputId": "75f993bf-5588-47a6-9662-705da438bd67",
        "colab": {
          "base_uri": "https://localhost:8080/"
        }
      },
      "execution_count": 132,
      "outputs": [
        {
          "output_type": "stream",
          "name": "stdout",
          "text": [
            "Enter city names: Kottayam Trivandrum Ernakulam\n",
            "Enter temperature for Kottayam (or 'nan'): 28\n",
            "Enter temperature for Trivandrum (or 'nan'): 31\n",
            "Enter temperature for Ernakulam (or 'nan'): nan\n",
            "Updated Temperatures:\n",
            "          City  Temperature\n",
            "0    Kottayam         28.0\n",
            "1  Trivandrum         31.0\n",
            "2   Ernakulam         29.5\n"
          ]
        }
      ]
    }
  ],
  "metadata": {
    "colab": {
      "name": "Welcome To Colab",
      "toc_visible": true,
      "provenance": []
    },
    "kernelspec": {
      "display_name": "Python 3",
      "name": "python3"
    }
  },
  "nbformat": 4,
  "nbformat_minor": 0
}